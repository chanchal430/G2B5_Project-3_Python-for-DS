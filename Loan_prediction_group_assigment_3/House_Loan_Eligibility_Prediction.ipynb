{
 "cells": [
  {
   "cell_type": "markdown",
   "id": "b640c7c0",
   "metadata": {},
   "source": [
    "<div style=\"font-family: Arial; font-weight: bold; font-size: 2.1em; color: #00b3e5; text-align: center;\">\n",
    "    Python Graded Group Assignment-03<br><br>\n",
    "    Web Development using Flask\n",
    "</div>\n"
   ]
  },
  {
   "cell_type": "markdown",
   "id": "2243e107",
   "metadata": {},
   "source": [
    "# Domain:\n",
    "\n",
    "   ○ Finance and Banking"
   ]
  },
  {
   "cell_type": "markdown",
   "id": "f5b068a4",
   "metadata": {},
   "source": [
    "# Context:\n",
    "\n",
    "    Dream Housing Finance company deals in all home loans. They have presence across all urban, semi urban and rural areas. Customers first apply for a home loan after that company manually validates the customer eligibility for loan. Company wants to automate the loan eligibility process based on customer detail provided while filling the details online. They need a web application where a user can access their website and register, login, and enter the required details such as Gender, Marital Status, Education, Number of Dependents, Income, Loan Amount, Credit History and others for checking the eligibility for the home loan."
   ]
  },
  {
   "cell_type": "markdown",
   "id": "7523d812",
   "metadata": {},
   "source": [
    "# Project Objective:\n",
    "   \n",
    "   \n",
    "   1) This is a standard supervised classification task. A classification problem where we have to predict whether a customer is eligible for loan or not based on a given set of independent variable(s).\n",
    "   2) To build a Python Flask ML application where a user has to get registered by entering the username and password and login to the website and then enter their details to check whether they are eligible for loan or not."
   ]
  },
  {
   "cell_type": "markdown",
   "id": "d248abb3",
   "metadata": {},
   "source": [
    "# Dataset Description:"
   ]
  },
  {
   "cell_type": "code",
   "execution_count": 1,
   "id": "26765702",
   "metadata": {},
   "outputs": [
    {
     "data": {
      "text/html": [
       "<div>\n",
       "<style scoped>\n",
       "    .dataframe tbody tr th:only-of-type {\n",
       "        vertical-align: middle;\n",
       "    }\n",
       "\n",
       "    .dataframe tbody tr th {\n",
       "        vertical-align: top;\n",
       "    }\n",
       "\n",
       "    .dataframe thead th {\n",
       "        text-align: right;\n",
       "    }\n",
       "</style>\n",
       "<table border=\"1\" class=\"dataframe\">\n",
       "  <thead>\n",
       "    <tr style=\"text-align: right;\">\n",
       "      <th></th>\n",
       "      <th>Attribute</th>\n",
       "      <th>Description</th>\n",
       "    </tr>\n",
       "  </thead>\n",
       "  <tbody>\n",
       "    <tr>\n",
       "      <th>0</th>\n",
       "      <td>Loan ID</td>\n",
       "      <td>Unique Loan ID</td>\n",
       "    </tr>\n",
       "    <tr>\n",
       "      <th>1</th>\n",
       "      <td>Gender</td>\n",
       "      <td>Male or Female</td>\n",
       "    </tr>\n",
       "    <tr>\n",
       "      <th>2</th>\n",
       "      <td>Married</td>\n",
       "      <td>Applicant married (Y/N)</td>\n",
       "    </tr>\n",
       "    <tr>\n",
       "      <th>3</th>\n",
       "      <td>Dependents</td>\n",
       "      <td>Number of dependents</td>\n",
       "    </tr>\n",
       "    <tr>\n",
       "      <th>4</th>\n",
       "      <td>Self employed</td>\n",
       "      <td>Self employed (Y/N)</td>\n",
       "    </tr>\n",
       "    <tr>\n",
       "      <th>5</th>\n",
       "      <td>Education</td>\n",
       "      <td>Graduate/Undergraduate</td>\n",
       "    </tr>\n",
       "    <tr>\n",
       "      <th>6</th>\n",
       "      <td>Applicant Income</td>\n",
       "      <td>Applicant income (in dollars)</td>\n",
       "    </tr>\n",
       "    <tr>\n",
       "      <th>7</th>\n",
       "      <td>Co Applicant Income</td>\n",
       "      <td>Co Applicant Income (in dollars)</td>\n",
       "    </tr>\n",
       "    <tr>\n",
       "      <th>8</th>\n",
       "      <td>Loan Amount</td>\n",
       "      <td>Loan amount in thousands (in dollars)</td>\n",
       "    </tr>\n",
       "    <tr>\n",
       "      <th>9</th>\n",
       "      <td>Loan Amount Term</td>\n",
       "      <td>Term of loan in months</td>\n",
       "    </tr>\n",
       "    <tr>\n",
       "      <th>10</th>\n",
       "      <td>Credit History</td>\n",
       "      <td>Credit history meets guidelines Yes/No(1/0)</td>\n",
       "    </tr>\n",
       "    <tr>\n",
       "      <th>11</th>\n",
       "      <td>Property area</td>\n",
       "      <td>Urban/Semi Urban/Rural</td>\n",
       "    </tr>\n",
       "    <tr>\n",
       "      <th>12</th>\n",
       "      <td>Loan Status (Target)</td>\n",
       "      <td>Loan Approved (Y/N)</td>\n",
       "    </tr>\n",
       "  </tbody>\n",
       "</table>\n",
       "</div>"
      ],
      "text/plain": [
       "               Attribute                                  Description\n",
       "0                Loan ID                               Unique Loan ID\n",
       "1                 Gender                               Male or Female\n",
       "2                Married                      Applicant married (Y/N)\n",
       "3             Dependents                         Number of dependents\n",
       "4          Self employed                          Self employed (Y/N)\n",
       "5              Education                       Graduate/Undergraduate\n",
       "6       Applicant Income                Applicant income (in dollars)\n",
       "7    Co Applicant Income             Co Applicant Income (in dollars)\n",
       "8            Loan Amount        Loan amount in thousands (in dollars)\n",
       "9       Loan Amount Term                       Term of loan in months\n",
       "10        Credit History  Credit history meets guidelines Yes/No(1/0)\n",
       "11         Property area                       Urban/Semi Urban/Rural\n",
       "12  Loan Status (Target)                          Loan Approved (Y/N)"
      ]
     },
     "execution_count": 1,
     "metadata": {},
     "output_type": "execute_result"
    }
   ],
   "source": [
    "# Create a DataFrame with attribute information\n",
    "import pandas as pd\n",
    "attribute_info = pd.DataFrame({\n",
    "    'Attribute': ['Loan ID', 'Gender', 'Married', 'Dependents', 'Self employed', 'Education', 'Applicant Income', 'Co Applicant Income', 'Loan Amount', 'Loan Amount Term', 'Credit History', 'Property area', 'Loan Status (Target)'],\n",
    "    'Description': ['Unique Loan ID', 'Male or Female', 'Applicant married (Y/N)', 'Number of dependents', 'Self employed (Y/N)', 'Graduate/Undergraduate', 'Applicant income (in dollars)', 'Co Applicant Income (in dollars)', 'Loan amount in thousands (in dollars)', 'Term of loan in months', 'Credit history meets guidelines Yes/No(1/0)', 'Urban/Semi Urban/Rural', 'Loan Approved (Y/N)']\n",
    "})\n",
    "\n",
    "attribute_info"
   ]
  },
  {
   "cell_type": "markdown",
   "id": "da65c1f9",
   "metadata": {},
   "source": [
    "<div style=\"font-family: Arial; font-weight: bold; font-size: 2.1em; color: #00b3e5; text-align: center;\">\n",
    "     ● Model Building and saving the model using Pickle:\n",
    "</div>  "
   ]
  },
  {
   "cell_type": "markdown",
   "id": "2974792a",
   "metadata": {},
   "source": [
    "### 1. Import required libraries and read the dataset."
   ]
  },
  {
   "cell_type": "code",
   "execution_count": 2,
   "id": "77a67f59",
   "metadata": {},
   "outputs": [],
   "source": [
    "import numpy as np \n",
    "import pandas as pd \n",
    "import matplotlib.pyplot as plt\n",
    "import seaborn as sns\n",
    "import sklearn\n",
    "from sklearn import metrics\n",
    "from sklearn.model_selection import train_test_split\n",
    "from sklearn.preprocessing import StandardScaler\n",
    "from sklearn.linear_model import LogisticRegression\n",
    "from sklearn.metrics import accuracy_score, classification_report\n",
    "from sklearn.preprocessing import LabelEncoder\n",
    "import warnings\n",
    "warnings.filterwarnings('ignore')\n",
    "\n",
    "from sklearn.neighbors import KNeighborsClassifier\n",
    "from sklearn.naive_bayes import GaussianNB\n",
    "from sklearn.ensemble import RandomForestClassifier\n",
    "from sklearn.ensemble import StackingClassifier\n",
    "from sklearn.ensemble import AdaBoostClassifier, GradientBoostingClassifier\n",
    "from sklearn.tree import DecisionTreeClassifier"
   ]
  },
  {
   "cell_type": "code",
   "execution_count": 3,
   "id": "ff22039a",
   "metadata": {},
   "outputs": [],
   "source": [
    "## Reading the dataset 'loan_approval_data.csv'\n",
    "try:\n",
    "    df = pd.read_csv('loan_approval_data.csv')\n",
    "except FileNotFoundError: # if file path is invalid of the file does not exist\n",
    "    print(\"File not found.\")\n",
    "except pd.errors.EmptyDataError: # if the file is empty or has no data\n",
    "    print(\"No data\")\n",
    "except pd.errors.ParserError: # if the file has malformed or invalid data that cannot be parsed.\n",
    "    print(\"Parse error\")\n",
    "except UnicodeDecodeError: # if the file has a different encoding than the default or specified one.\n",
    "    print(\"Encoding error\")\n",
    "except Exception: # handling other exceptions\n",
    "    print(\"Error encountered! Please review your code\")"
   ]
  },
  {
   "cell_type": "markdown",
   "id": "7d3565b8",
   "metadata": {},
   "source": [
    "### 2. Check the first few samples, shape, info of the data and try to familiarize yourself with different features."
   ]
  },
  {
   "cell_type": "code",
   "execution_count": 4,
   "id": "d6fab2f2",
   "metadata": {},
   "outputs": [
    {
     "data": {
      "text/html": [
       "<div>\n",
       "<style scoped>\n",
       "    .dataframe tbody tr th:only-of-type {\n",
       "        vertical-align: middle;\n",
       "    }\n",
       "\n",
       "    .dataframe tbody tr th {\n",
       "        vertical-align: top;\n",
       "    }\n",
       "\n",
       "    .dataframe thead th {\n",
       "        text-align: right;\n",
       "    }\n",
       "</style>\n",
       "<table border=\"1\" class=\"dataframe\">\n",
       "  <thead>\n",
       "    <tr style=\"text-align: right;\">\n",
       "      <th></th>\n",
       "      <th>loan_id</th>\n",
       "      <th>gender</th>\n",
       "      <th>married</th>\n",
       "      <th>dependents</th>\n",
       "      <th>education</th>\n",
       "      <th>self_employed</th>\n",
       "      <th>applicantincome</th>\n",
       "      <th>coapplicantincome</th>\n",
       "      <th>loanamount</th>\n",
       "      <th>loan_amount_term</th>\n",
       "      <th>credit_history</th>\n",
       "      <th>property_area</th>\n",
       "      <th>loan_status</th>\n",
       "    </tr>\n",
       "  </thead>\n",
       "  <tbody>\n",
       "    <tr>\n",
       "      <th>60</th>\n",
       "      <td>lp001205</td>\n",
       "      <td>male</td>\n",
       "      <td>yes</td>\n",
       "      <td>0.0</td>\n",
       "      <td>graduate</td>\n",
       "      <td>no</td>\n",
       "      <td>2500</td>\n",
       "      <td>3796.0</td>\n",
       "      <td>120.0</td>\n",
       "      <td>360.0</td>\n",
       "      <td>1.0</td>\n",
       "      <td>urban</td>\n",
       "      <td>y</td>\n",
       "    </tr>\n",
       "    <tr>\n",
       "      <th>494</th>\n",
       "      <td>lp002585</td>\n",
       "      <td>male</td>\n",
       "      <td>yes</td>\n",
       "      <td>0.0</td>\n",
       "      <td>graduate</td>\n",
       "      <td>no</td>\n",
       "      <td>3597</td>\n",
       "      <td>2157.0</td>\n",
       "      <td>119.0</td>\n",
       "      <td>360.0</td>\n",
       "      <td>0.0</td>\n",
       "      <td>rural</td>\n",
       "      <td>n</td>\n",
       "    </tr>\n",
       "    <tr>\n",
       "      <th>144</th>\n",
       "      <td>lp001508</td>\n",
       "      <td>male</td>\n",
       "      <td>yes</td>\n",
       "      <td>2.0</td>\n",
       "      <td>graduate</td>\n",
       "      <td>no</td>\n",
       "      <td>11757</td>\n",
       "      <td>0.0</td>\n",
       "      <td>187.0</td>\n",
       "      <td>180.0</td>\n",
       "      <td>1.0</td>\n",
       "      <td>urban</td>\n",
       "      <td>y</td>\n",
       "    </tr>\n",
       "    <tr>\n",
       "      <th>576</th>\n",
       "      <td>lp002872</td>\n",
       "      <td>NaN</td>\n",
       "      <td>yes</td>\n",
       "      <td>0.0</td>\n",
       "      <td>graduate</td>\n",
       "      <td>no</td>\n",
       "      <td>3087</td>\n",
       "      <td>2210.0</td>\n",
       "      <td>136.0</td>\n",
       "      <td>360.0</td>\n",
       "      <td>0.0</td>\n",
       "      <td>semiurban</td>\n",
       "      <td>n</td>\n",
       "    </tr>\n",
       "    <tr>\n",
       "      <th>86</th>\n",
       "      <td>lp001280</td>\n",
       "      <td>male</td>\n",
       "      <td>yes</td>\n",
       "      <td>2.0</td>\n",
       "      <td>not graduate</td>\n",
       "      <td>no</td>\n",
       "      <td>3333</td>\n",
       "      <td>2000.0</td>\n",
       "      <td>99.0</td>\n",
       "      <td>360.0</td>\n",
       "      <td>NaN</td>\n",
       "      <td>semiurban</td>\n",
       "      <td>y</td>\n",
       "    </tr>\n",
       "  </tbody>\n",
       "</table>\n",
       "</div>"
      ],
      "text/plain": [
       "      loan_id gender married  dependents     education self_employed  \\\n",
       "60   lp001205   male     yes         0.0      graduate            no   \n",
       "494  lp002585   male     yes         0.0      graduate            no   \n",
       "144  lp001508   male     yes         2.0      graduate            no   \n",
       "576  lp002872    NaN     yes         0.0      graduate            no   \n",
       "86   lp001280   male     yes         2.0  not graduate            no   \n",
       "\n",
       "     applicantincome  coapplicantincome  loanamount  loan_amount_term  \\\n",
       "60              2500             3796.0       120.0             360.0   \n",
       "494             3597             2157.0       119.0             360.0   \n",
       "144            11757                0.0       187.0             180.0   \n",
       "576             3087             2210.0       136.0             360.0   \n",
       "86              3333             2000.0        99.0             360.0   \n",
       "\n",
       "     credit_history property_area loan_status  \n",
       "60              1.0         urban           y  \n",
       "494             0.0         rural           n  \n",
       "144             1.0         urban           y  \n",
       "576             0.0     semiurban           n  \n",
       "86              NaN     semiurban           y  "
      ]
     },
     "execution_count": 4,
     "metadata": {},
     "output_type": "execute_result"
    }
   ],
   "source": [
    "##Check the first few samples\n",
    "df.sample(5)"
   ]
  },
  {
   "cell_type": "code",
   "execution_count": 5,
   "id": "25603a62",
   "metadata": {},
   "outputs": [
    {
     "data": {
      "text/plain": [
       "(614, 13)"
      ]
     },
     "execution_count": 5,
     "metadata": {},
     "output_type": "execute_result"
    }
   ],
   "source": [
    "# shape is the (rows, columns) in a dataset\n",
    "df.shape"
   ]
  },
  {
   "cell_type": "markdown",
   "id": "72a00aca",
   "metadata": {},
   "source": [
    "- The dataset has 614 rows and 13 columns"
   ]
  },
  {
   "cell_type": "code",
   "execution_count": 6,
   "id": "44dfb81b",
   "metadata": {},
   "outputs": [
    {
     "name": "stdout",
     "output_type": "stream",
     "text": [
      "<class 'pandas.core.frame.DataFrame'>\n",
      "RangeIndex: 614 entries, 0 to 613\n",
      "Data columns (total 13 columns):\n",
      " #   Column             Non-Null Count  Dtype  \n",
      "---  ------             --------------  -----  \n",
      " 0   loan_id            614 non-null    object \n",
      " 1   gender             601 non-null    object \n",
      " 2   married            611 non-null    object \n",
      " 3   dependents         599 non-null    float64\n",
      " 4   education          614 non-null    object \n",
      " 5   self_employed      582 non-null    object \n",
      " 6   applicantincome    614 non-null    int64  \n",
      " 7   coapplicantincome  614 non-null    float64\n",
      " 8   loanamount         592 non-null    float64\n",
      " 9   loan_amount_term   600 non-null    float64\n",
      " 10  credit_history     564 non-null    float64\n",
      " 11  property_area      614 non-null    object \n",
      " 12  loan_status        614 non-null    object \n",
      "dtypes: float64(5), int64(1), object(7)\n",
      "memory usage: 62.5+ KB\n"
     ]
    }
   ],
   "source": [
    "df.info()"
   ]
  },
  {
   "cell_type": "markdown",
   "id": "dfda36ef",
   "metadata": {},
   "source": [
    "**Observations:**\n",
    "\n",
    "   - There are 614 rows and 13 columns\n",
    "   - The columns include various data types such as integer, float and object\n",
    "   - Some columns have missing data, noticeable like 'gender','married', 'dependents','self_employed','loanamount','loan_amount_term','credit_history'\n",
    "   - The DataFrame contains information related to House-loan-eligibility, including attributes like loan_id, gender, married, dependents, education, and various skill-related attributes.\n",
    "   - Some columns like 'loan_id', 'gender','married','education', 'self_employed','property_area','loan_status' is in string format and required conversion to numeric column for analysis\n",
    "   - Loan ID is unique\n",
    "\n"
   ]
  },
  {
   "cell_type": "code",
   "execution_count": 7,
   "id": "ccd256b2",
   "metadata": {},
   "outputs": [
    {
     "data": {
      "text/html": [
       "<div>\n",
       "<style scoped>\n",
       "    .dataframe tbody tr th:only-of-type {\n",
       "        vertical-align: middle;\n",
       "    }\n",
       "\n",
       "    .dataframe tbody tr th {\n",
       "        vertical-align: top;\n",
       "    }\n",
       "\n",
       "    .dataframe thead th {\n",
       "        text-align: right;\n",
       "    }\n",
       "</style>\n",
       "<table border=\"1\" class=\"dataframe\">\n",
       "  <thead>\n",
       "    <tr style=\"text-align: right;\">\n",
       "      <th></th>\n",
       "      <th>count</th>\n",
       "      <th>mean</th>\n",
       "      <th>std</th>\n",
       "      <th>min</th>\n",
       "      <th>25%</th>\n",
       "      <th>50%</th>\n",
       "      <th>75%</th>\n",
       "      <th>max</th>\n",
       "    </tr>\n",
       "  </thead>\n",
       "  <tbody>\n",
       "    <tr>\n",
       "      <th>dependents</th>\n",
       "      <td>599.0</td>\n",
       "      <td>0.762938</td>\n",
       "      <td>1.015216</td>\n",
       "      <td>0.0</td>\n",
       "      <td>0.0</td>\n",
       "      <td>0.0</td>\n",
       "      <td>2.00</td>\n",
       "      <td>3.0</td>\n",
       "    </tr>\n",
       "    <tr>\n",
       "      <th>applicantincome</th>\n",
       "      <td>614.0</td>\n",
       "      <td>5403.459283</td>\n",
       "      <td>6109.041673</td>\n",
       "      <td>150.0</td>\n",
       "      <td>2877.5</td>\n",
       "      <td>3812.5</td>\n",
       "      <td>5795.00</td>\n",
       "      <td>81000.0</td>\n",
       "    </tr>\n",
       "    <tr>\n",
       "      <th>coapplicantincome</th>\n",
       "      <td>614.0</td>\n",
       "      <td>1621.245798</td>\n",
       "      <td>2926.248369</td>\n",
       "      <td>0.0</td>\n",
       "      <td>0.0</td>\n",
       "      <td>1188.5</td>\n",
       "      <td>2297.25</td>\n",
       "      <td>41667.0</td>\n",
       "    </tr>\n",
       "    <tr>\n",
       "      <th>loanamount</th>\n",
       "      <td>592.0</td>\n",
       "      <td>146.412162</td>\n",
       "      <td>85.587325</td>\n",
       "      <td>9.0</td>\n",
       "      <td>100.0</td>\n",
       "      <td>128.0</td>\n",
       "      <td>168.00</td>\n",
       "      <td>700.0</td>\n",
       "    </tr>\n",
       "    <tr>\n",
       "      <th>loan_amount_term</th>\n",
       "      <td>600.0</td>\n",
       "      <td>342.000000</td>\n",
       "      <td>65.120410</td>\n",
       "      <td>12.0</td>\n",
       "      <td>360.0</td>\n",
       "      <td>360.0</td>\n",
       "      <td>360.00</td>\n",
       "      <td>480.0</td>\n",
       "    </tr>\n",
       "    <tr>\n",
       "      <th>credit_history</th>\n",
       "      <td>564.0</td>\n",
       "      <td>0.842199</td>\n",
       "      <td>0.364878</td>\n",
       "      <td>0.0</td>\n",
       "      <td>1.0</td>\n",
       "      <td>1.0</td>\n",
       "      <td>1.00</td>\n",
       "      <td>1.0</td>\n",
       "    </tr>\n",
       "  </tbody>\n",
       "</table>\n",
       "</div>"
      ],
      "text/plain": [
       "                   count         mean          std    min     25%     50%  \\\n",
       "dependents         599.0     0.762938     1.015216    0.0     0.0     0.0   \n",
       "applicantincome    614.0  5403.459283  6109.041673  150.0  2877.5  3812.5   \n",
       "coapplicantincome  614.0  1621.245798  2926.248369    0.0     0.0  1188.5   \n",
       "loanamount         592.0   146.412162    85.587325    9.0   100.0   128.0   \n",
       "loan_amount_term   600.0   342.000000    65.120410   12.0   360.0   360.0   \n",
       "credit_history     564.0     0.842199     0.364878    0.0     1.0     1.0   \n",
       "\n",
       "                       75%      max  \n",
       "dependents            2.00      3.0  \n",
       "applicantincome    5795.00  81000.0  \n",
       "coapplicantincome  2297.25  41667.0  \n",
       "loanamount          168.00    700.0  \n",
       "loan_amount_term    360.00    480.0  \n",
       "credit_history        1.00      1.0  "
      ]
     },
     "execution_count": 7,
     "metadata": {},
     "output_type": "execute_result"
    }
   ],
   "source": [
    "# Descriptive analysis of numerical value\n",
    "df.describe(include = 'number').T"
   ]
  },
  {
   "cell_type": "code",
   "execution_count": 8,
   "id": "b073a548",
   "metadata": {},
   "outputs": [
    {
     "data": {
      "text/html": [
       "<div>\n",
       "<style scoped>\n",
       "    .dataframe tbody tr th:only-of-type {\n",
       "        vertical-align: middle;\n",
       "    }\n",
       "\n",
       "    .dataframe tbody tr th {\n",
       "        vertical-align: top;\n",
       "    }\n",
       "\n",
       "    .dataframe thead th {\n",
       "        text-align: right;\n",
       "    }\n",
       "</style>\n",
       "<table border=\"1\" class=\"dataframe\">\n",
       "  <thead>\n",
       "    <tr style=\"text-align: right;\">\n",
       "      <th></th>\n",
       "      <th>count</th>\n",
       "      <th>unique</th>\n",
       "      <th>top</th>\n",
       "      <th>freq</th>\n",
       "    </tr>\n",
       "  </thead>\n",
       "  <tbody>\n",
       "    <tr>\n",
       "      <th>loan_id</th>\n",
       "      <td>614</td>\n",
       "      <td>614</td>\n",
       "      <td>lp001002</td>\n",
       "      <td>1</td>\n",
       "    </tr>\n",
       "    <tr>\n",
       "      <th>gender</th>\n",
       "      <td>601</td>\n",
       "      <td>2</td>\n",
       "      <td>male</td>\n",
       "      <td>489</td>\n",
       "    </tr>\n",
       "    <tr>\n",
       "      <th>married</th>\n",
       "      <td>611</td>\n",
       "      <td>2</td>\n",
       "      <td>yes</td>\n",
       "      <td>398</td>\n",
       "    </tr>\n",
       "    <tr>\n",
       "      <th>education</th>\n",
       "      <td>614</td>\n",
       "      <td>2</td>\n",
       "      <td>graduate</td>\n",
       "      <td>480</td>\n",
       "    </tr>\n",
       "    <tr>\n",
       "      <th>self_employed</th>\n",
       "      <td>582</td>\n",
       "      <td>2</td>\n",
       "      <td>no</td>\n",
       "      <td>500</td>\n",
       "    </tr>\n",
       "    <tr>\n",
       "      <th>property_area</th>\n",
       "      <td>614</td>\n",
       "      <td>3</td>\n",
       "      <td>semiurban</td>\n",
       "      <td>233</td>\n",
       "    </tr>\n",
       "    <tr>\n",
       "      <th>loan_status</th>\n",
       "      <td>614</td>\n",
       "      <td>2</td>\n",
       "      <td>y</td>\n",
       "      <td>422</td>\n",
       "    </tr>\n",
       "  </tbody>\n",
       "</table>\n",
       "</div>"
      ],
      "text/plain": [
       "              count unique        top freq\n",
       "loan_id         614    614   lp001002    1\n",
       "gender          601      2       male  489\n",
       "married         611      2        yes  398\n",
       "education       614      2   graduate  480\n",
       "self_employed   582      2         no  500\n",
       "property_area   614      3  semiurban  233\n",
       "loan_status     614      2          y  422"
      ]
     },
     "execution_count": 8,
     "metadata": {},
     "output_type": "execute_result"
    }
   ],
   "source": [
    "# Descriptive analysis of categorical value\n",
    "df.describe(include = 'O').T"
   ]
  },
  {
   "cell_type": "code",
   "execution_count": 9,
   "id": "87936732",
   "metadata": {},
   "outputs": [
    {
     "data": {
      "text/plain": [
       "loan_id              614\n",
       "gender                 2\n",
       "married                2\n",
       "dependents             4\n",
       "education              2\n",
       "self_employed          2\n",
       "applicantincome      505\n",
       "coapplicantincome    287\n",
       "loanamount           203\n",
       "loan_amount_term      10\n",
       "credit_history         2\n",
       "property_area          3\n",
       "loan_status            2\n",
       "dtype: int64"
      ]
     },
     "execution_count": 9,
     "metadata": {},
     "output_type": "execute_result"
    }
   ],
   "source": [
    "## the number of unique rows in each attribute\n",
    "df.nunique()"
   ]
  },
  {
   "cell_type": "code",
   "execution_count": 10,
   "id": "888356e4",
   "metadata": {},
   "outputs": [
    {
     "data": {
      "text/plain": [
       "0"
      ]
     },
     "execution_count": 10,
     "metadata": {},
     "output_type": "execute_result"
    }
   ],
   "source": [
    "## the number of duplicated records in the dataset\n",
    "df.duplicated().sum()"
   ]
  },
  {
   "cell_type": "markdown",
   "id": "6e784939",
   "metadata": {},
   "source": [
    "- This Dataset does not have any duplicate records"
   ]
  },
  {
   "cell_type": "markdown",
   "id": "8c8dcb45",
   "metadata": {},
   "source": [
    "### 3. Check for missing values in the dataset, if present? handle them with appropriate methods and drop redundant features."
   ]
  },
  {
   "cell_type": "code",
   "execution_count": 11,
   "id": "19c79da8",
   "metadata": {},
   "outputs": [
    {
     "data": {
      "text/plain": [
       "loan_id              0.000000\n",
       "gender               2.117264\n",
       "married              0.488599\n",
       "dependents           2.442997\n",
       "education            0.000000\n",
       "self_employed        5.211726\n",
       "applicantincome      0.000000\n",
       "coapplicantincome    0.000000\n",
       "loanamount           3.583062\n",
       "loan_amount_term     2.280130\n",
       "credit_history       8.143322\n",
       "property_area        0.000000\n",
       "loan_status          0.000000\n",
       "dtype: float64"
      ]
     },
     "execution_count": 11,
     "metadata": {},
     "output_type": "execute_result"
    }
   ],
   "source": [
    "## the number of missing or null values in each attribute\n",
    "df.isnull().sum()/len(df)*100"
   ]
  },
  {
   "cell_type": "markdown",
   "id": "2b7cbf50",
   "metadata": {},
   "source": [
    "- We can observe that there is missing values present in several columns of dataset.\n",
    "- lets handle them"
   ]
  },
  {
   "cell_type": "code",
   "execution_count": 12,
   "id": "575ba93e",
   "metadata": {},
   "outputs": [],
   "source": [
    "## For categorical variables like gender, married, dependents, self_employed, and credit_history,\n",
    "## Replacing missing values with the mode (the most frequent value) \n",
    "## since they represent categorical attributes.This can be done using the fillna() method in pandas.\n",
    "df['gender'].fillna(df['gender'].mode()[0], inplace=True)\n",
    "df['married'].fillna(df['married'].mode()[0], inplace=True)\n",
    "df['dependents'].fillna(df['dependents'].mode()[0], inplace=True)\n",
    "df['self_employed'].fillna(df['self_employed'].mode()[0], inplace=True)\n",
    "df['credit_history'].fillna(df['credit_history'].mode()[0], inplace=True)"
   ]
  },
  {
   "cell_type": "code",
   "execution_count": 13,
   "id": "3aca57fe",
   "metadata": {},
   "outputs": [],
   "source": [
    "## For loan_amount_term, loanamount, which seems to represent a numerical value, \n",
    "## Replace missing values with the median or mean of the existing values.\n",
    "df['loan_amount_term'].fillna(df['loan_amount_term'].mean(), inplace=True)\n",
    "df['loanamount'].fillna(df['loanamount'].mean(), inplace=True)"
   ]
  },
  {
   "cell_type": "code",
   "execution_count": 14,
   "id": "e1cb1d4e",
   "metadata": {},
   "outputs": [
    {
     "data": {
      "text/plain": [
       "loan_id              0.0\n",
       "gender               0.0\n",
       "married              0.0\n",
       "dependents           0.0\n",
       "education            0.0\n",
       "self_employed        0.0\n",
       "applicantincome      0.0\n",
       "coapplicantincome    0.0\n",
       "loanamount           0.0\n",
       "loan_amount_term     0.0\n",
       "credit_history       0.0\n",
       "property_area        0.0\n",
       "loan_status          0.0\n",
       "dtype: float64"
      ]
     },
     "execution_count": 14,
     "metadata": {},
     "output_type": "execute_result"
    }
   ],
   "source": [
    "## Reverrifying the number of missing or null values in each attribute\n",
    "df.isnull().sum()/len(df)*100"
   ]
  },
  {
   "cell_type": "markdown",
   "id": "472ff617",
   "metadata": {},
   "source": [
    "- All the null values have been handled successfully"
   ]
  },
  {
   "cell_type": "markdown",
   "id": "76b8c8de",
   "metadata": {},
   "source": [
    "**drop redundant features**"
   ]
  },
  {
   "cell_type": "code",
   "execution_count": 15,
   "id": "43234616",
   "metadata": {},
   "outputs": [],
   "source": [
    "df.drop('loan_id',axis=1, inplace=True)"
   ]
  },
  {
   "cell_type": "markdown",
   "id": "ef43024c",
   "metadata": {},
   "source": [
    "### 4. Visualize the distribution of the target column 'loan_status' with respect to various categorical features and write your observations."
   ]
  },
  {
   "cell_type": "code",
   "execution_count": 16,
   "id": "ab9d01bc",
   "metadata": {},
   "outputs": [
    {
     "data": {
      "text/plain": [
       "Index(['gender', 'married', 'education', 'self_employed', 'property_area',\n",
       "       'loan_status'],\n",
       "      dtype='object')"
      ]
     },
     "execution_count": 16,
     "metadata": {},
     "output_type": "execute_result"
    }
   ],
   "source": [
    "## getting all object datatype from the dataset\n",
    "cat_features = df.select_dtypes(include=[np.object_])\n",
    "cat_features.columns"
   ]
  },
  {
   "cell_type": "code",
   "execution_count": 17,
   "id": "fbb892cd",
   "metadata": {},
   "outputs": [
    {
     "data": {
      "image/png": "[encoded data removed]",
      "text/plain": [
       "<Figure size 3000x2500 with 6 Axes>"
      ]
     },
     "metadata": {},
     "output_type": "display_data"
    }
   ],
   "source": [
    "## Visualize the distribution of the target column 'loan_status' with respect to various categorical features\n",
    "i = 1\n",
    "plt.figure(figsize=(30,25))\n",
    "\n",
    "for feature in cat_features:\n",
    "    plt.subplot(6,3,i)\n",
    "    sns.countplot(x=feature, hue='loan_status', data=df)\n",
    "    i += 1"
   ]
  },
  {
   "cell_type": "markdown",
   "id": "81684eab",
   "metadata": {},
   "source": [
    "### Inference:\n",
    "\n",
    "- **gender:** Majority of the Loan holder are male as compared to females..\n",
    "- **married** Most of the loan holders are married, suggesting that marital status could be a factor considered in loan applications or approvals.\n",
    "- **education:** Graduate individuals have a higher number of approved loans, implying that education level might influence loan eligibility or application success.\n",
    "- **self_employed:** Majority of people who has taken loan are not self-employed.suggesting that employment status could play a role in loan approval processes.\n",
    "- **property_area:** Loans are distributed across urban, rural, and semi-urban areas, but the number of loans is higher in semi-urban areas. This suggests that people residing in semi-urban areas might have higher demand or accessibility to loans compared to urban or rural areas..\n"
   ]
  },
  {
   "cell_type": "markdown",
   "id": "cbb0e811",
   "metadata": {},
   "source": [
    "### 5. Encode the categorical data."
   ]
  },
  {
   "cell_type": "code",
   "execution_count": 18,
   "id": "50d46167",
   "metadata": {},
   "outputs": [],
   "source": [
    "# select object datatype variable\n",
    "df['gender'] = df['gender'].replace({'male':1, 'female':0})\n",
    "df['married'] = df['married'].replace({'yes':1, 'no':0})\n",
    "df['self_employed'] = df['self_employed'].replace({'yes':1, 'no':0})\n",
    "df['education'] = df['education'].replace({'graduate':1, 'not graduate':0})\n",
    "df['property_area'] = df['property_area'].replace({'urban':2, 'semiurban':1, 'rural':0})\n",
    "df['loan_status'] = df['loan_status'].replace({'y':1, 'n':0})"
   ]
  },
  {
   "cell_type": "code",
   "execution_count": 19,
   "id": "049893c4",
   "metadata": {},
   "outputs": [
    {
     "data": {
      "text/html": [
       "<div>\n",
       "<style scoped>\n",
       "    .dataframe tbody tr th:only-of-type {\n",
       "        vertical-align: middle;\n",
       "    }\n",
       "\n",
       "    .dataframe tbody tr th {\n",
       "        vertical-align: top;\n",
       "    }\n",
       "\n",
       "    .dataframe thead th {\n",
       "        text-align: right;\n",
       "    }\n",
       "</style>\n",
       "<table border=\"1\" class=\"dataframe\">\n",
       "  <thead>\n",
       "    <tr style=\"text-align: right;\">\n",
       "      <th></th>\n",
       "      <th>gender</th>\n",
       "      <th>married</th>\n",
       "      <th>dependents</th>\n",
       "      <th>education</th>\n",
       "      <th>self_employed</th>\n",
       "      <th>applicantincome</th>\n",
       "      <th>coapplicantincome</th>\n",
       "      <th>loanamount</th>\n",
       "      <th>loan_amount_term</th>\n",
       "      <th>credit_history</th>\n",
       "      <th>property_area</th>\n",
       "      <th>loan_status</th>\n",
       "    </tr>\n",
       "  </thead>\n",
       "  <tbody>\n",
       "    <tr>\n",
       "      <th>0</th>\n",
       "      <td>1</td>\n",
       "      <td>0</td>\n",
       "      <td>0.0</td>\n",
       "      <td>1</td>\n",
       "      <td>0</td>\n",
       "      <td>5849</td>\n",
       "      <td>0.0</td>\n",
       "      <td>146.412162</td>\n",
       "      <td>360.0</td>\n",
       "      <td>1.0</td>\n",
       "      <td>2</td>\n",
       "      <td>1</td>\n",
       "    </tr>\n",
       "    <tr>\n",
       "      <th>1</th>\n",
       "      <td>1</td>\n",
       "      <td>1</td>\n",
       "      <td>1.0</td>\n",
       "      <td>1</td>\n",
       "      <td>0</td>\n",
       "      <td>4583</td>\n",
       "      <td>1508.0</td>\n",
       "      <td>128.000000</td>\n",
       "      <td>360.0</td>\n",
       "      <td>1.0</td>\n",
       "      <td>0</td>\n",
       "      <td>0</td>\n",
       "    </tr>\n",
       "  </tbody>\n",
       "</table>\n",
       "</div>"
      ],
      "text/plain": [
       "   gender  married  dependents  education  self_employed  applicantincome  \\\n",
       "0       1        0         0.0          1              0             5849   \n",
       "1       1        1         1.0          1              0             4583   \n",
       "\n",
       "   coapplicantincome  loanamount  loan_amount_term  credit_history  \\\n",
       "0                0.0  146.412162             360.0             1.0   \n",
       "1             1508.0  128.000000             360.0             1.0   \n",
       "\n",
       "   property_area  loan_status  \n",
       "0              2            1  \n",
       "1              0            0  "
      ]
     },
     "execution_count": 19,
     "metadata": {},
     "output_type": "execute_result"
    }
   ],
   "source": [
    "## Verifying the dataset after handling categorical data\n",
    "df.head(2)"
   ]
  },
  {
   "cell_type": "code",
   "execution_count": 20,
   "id": "cff81776",
   "metadata": {},
   "outputs": [
    {
     "name": "stdout",
     "output_type": "stream",
     "text": [
      "<class 'pandas.core.frame.DataFrame'>\n",
      "RangeIndex: 614 entries, 0 to 613\n",
      "Data columns (total 12 columns):\n",
      " #   Column             Non-Null Count  Dtype  \n",
      "---  ------             --------------  -----  \n",
      " 0   gender             614 non-null    int64  \n",
      " 1   married            614 non-null    int64  \n",
      " 2   dependents         614 non-null    float64\n",
      " 3   education          614 non-null    int64  \n",
      " 4   self_employed      614 non-null    int64  \n",
      " 5   applicantincome    614 non-null    int64  \n",
      " 6   coapplicantincome  614 non-null    float64\n",
      " 7   loanamount         614 non-null    float64\n",
      " 8   loan_amount_term   614 non-null    float64\n",
      " 9   credit_history     614 non-null    float64\n",
      " 10  property_area      614 non-null    int64  \n",
      " 11  loan_status        614 non-null    int64  \n",
      "dtypes: float64(5), int64(7)\n",
      "memory usage: 57.7 KB\n"
     ]
    }
   ],
   "source": [
    "df.info()"
   ]
  },
  {
   "cell_type": "markdown",
   "id": "0921d258",
   "metadata": {},
   "source": [
    "- from the above information it is observed that there is no object type data. "
   ]
  },
  {
   "cell_type": "markdown",
   "id": "e4276fe3",
   "metadata": {},
   "source": [
    "### 6. Separate the target and independent features and split the data into train and test."
   ]
  },
  {
   "cell_type": "code",
   "execution_count": 21,
   "id": "b9664882",
   "metadata": {},
   "outputs": [],
   "source": [
    "## Split the dataset into two parts based on target variable and independet variable\n",
    "X = df.drop('loan_status',axis=1)\n",
    "y = df['loan_status']"
   ]
  },
  {
   "cell_type": "code",
   "execution_count": 22,
   "id": "78cf5dce",
   "metadata": {},
   "outputs": [
    {
     "name": "stdout",
     "output_type": "stream",
     "text": [
      "(429, 11) (185, 11)\n",
      "(429,) (185,)\n"
     ]
    }
   ],
   "source": [
    "## train_test_split() is used to divide dataset into training and test set\n",
    "X_train, X_test,y_train,y_test = train_test_split(X,y, test_size=0.3)\n",
    "\n",
    "print(X_train.shape,X_test.shape)\n",
    "print(y_train.shape,y_test.shape)"
   ]
  },
  {
   "cell_type": "markdown",
   "id": "a7ccff8c",
   "metadata": {},
   "source": [
    "### 7. Build any classification model to predict the loan status of the customer and save your model using pickle."
   ]
  },
  {
   "cell_type": "code",
   "execution_count": 23,
   "id": "72d210c8",
   "metadata": {},
   "outputs": [],
   "source": [
    "def fit_and_predict(model, X_train,X_test, y_train,y_test):\n",
    "    #fit the model with train data\n",
    "    model.fit(X_train,y_train)\n",
    "    \n",
    "    #Making predictions on test set\n",
    "    pred = model.predict(X_test)\n",
    "    \n",
    "    #Calculating the accuracy score\n",
    "    accuracy = accuracy_score(y_test, pred)\n",
    "    \n",
    "    return accuracy"
   ]
  },
  {
   "cell_type": "code",
   "execution_count": 24,
   "id": "a3eac6c0",
   "metadata": {},
   "outputs": [],
   "source": [
    "# Initializing the Models\n",
    "\n",
    "lr = LogisticRegression()\n",
    "nb = GaussianNB()\n",
    "knn = KNeighborsClassifier()\n",
    "dt = DecisionTreeClassifier()\n",
    "rf = RandomForestClassifier()\n",
    "adb = AdaBoostClassifier()\n",
    "gb = GradientBoostingClassifier()\n",
    "\n",
    "estimators = [('rf',rf),('knn',knn),('gb',gb),('adb',adb)]\n",
    "sc = StackingClassifier(estimators = estimators, final_estimator=rf)"
   ]
  },
  {
   "cell_type": "code",
   "execution_count": 25,
   "id": "2a3d2bca",
   "metadata": {},
   "outputs": [],
   "source": [
    "result = pd.DataFrame(columns=['Accuracy'])\n",
    "\n",
    "for model, model_name in zip([lr,nb,knn,dt,rf,adb,gb,sc],\n",
    "                            ['Logistic Regression','Naive Bayes','KNN','Descision Tree',\n",
    "                            'Random Forest','Ada Boost','Gradient Boost','Stacking']):\n",
    "    result.loc[model_name] = fit_and_predict(model, X_train, X_test, y_train, y_test)"
   ]
  },
  {
   "cell_type": "code",
   "execution_count": 26,
   "id": "6ffcad9e",
   "metadata": {},
   "outputs": [
    {
     "data": {
      "text/html": [
       "<div>\n",
       "<style scoped>\n",
       "    .dataframe tbody tr th:only-of-type {\n",
       "        vertical-align: middle;\n",
       "    }\n",
       "\n",
       "    .dataframe tbody tr th {\n",
       "        vertical-align: top;\n",
       "    }\n",
       "\n",
       "    .dataframe thead th {\n",
       "        text-align: right;\n",
       "    }\n",
       "</style>\n",
       "<table border=\"1\" class=\"dataframe\">\n",
       "  <thead>\n",
       "    <tr style=\"text-align: right;\">\n",
       "      <th></th>\n",
       "      <th>Accuracy</th>\n",
       "    </tr>\n",
       "  </thead>\n",
       "  <tbody>\n",
       "    <tr>\n",
       "      <th>Logistic Regression</th>\n",
       "      <td>0.789189</td>\n",
       "    </tr>\n",
       "    <tr>\n",
       "      <th>Naive Bayes</th>\n",
       "      <td>0.783784</td>\n",
       "    </tr>\n",
       "    <tr>\n",
       "      <th>KNN</th>\n",
       "      <td>0.632432</td>\n",
       "    </tr>\n",
       "    <tr>\n",
       "      <th>Descision Tree</th>\n",
       "      <td>0.675676</td>\n",
       "    </tr>\n",
       "    <tr>\n",
       "      <th>Random Forest</th>\n",
       "      <td>0.783784</td>\n",
       "    </tr>\n",
       "    <tr>\n",
       "      <th>Ada Boost</th>\n",
       "      <td>0.778378</td>\n",
       "    </tr>\n",
       "    <tr>\n",
       "      <th>Gradient Boost</th>\n",
       "      <td>0.789189</td>\n",
       "    </tr>\n",
       "    <tr>\n",
       "      <th>Stacking</th>\n",
       "      <td>0.789189</td>\n",
       "    </tr>\n",
       "  </tbody>\n",
       "</table>\n",
       "</div>"
      ],
      "text/plain": [
       "                     Accuracy\n",
       "Logistic Regression  0.789189\n",
       "Naive Bayes          0.783784\n",
       "KNN                  0.632432\n",
       "Descision Tree       0.675676\n",
       "Random Forest        0.783784\n",
       "Ada Boost            0.778378\n",
       "Gradient Boost       0.789189\n",
       "Stacking             0.789189"
      ]
     },
     "execution_count": 26,
     "metadata": {},
     "output_type": "execute_result"
    }
   ],
   "source": [
    "result"
   ]
  },
  {
   "cell_type": "markdown",
   "id": "c3dd9482",
   "metadata": {},
   "source": [
    "- Logistic Regression and Random Forest stand out as top performers, followed closely by Ada Boost and Gradient Boost. \n",
    "- Naive Bayes performs relatively well but may be limited by its independence assumption.\n",
    "- As logistic regression acheived 82% we will build our model with logistic regression."
   ]
  },
  {
   "cell_type": "code",
   "execution_count": 27,
   "id": "8a149326",
   "metadata": {},
   "outputs": [
    {
     "name": "stdout",
     "output_type": "stream",
     "text": [
      "accuracy train: 0.8205128205128205\n",
      "accuarcy test 0.7891891891891892\n"
     ]
    }
   ],
   "source": [
    "# Using Logistic Regression\n",
    "lr = LogisticRegression()\n",
    "\n",
    "# Train the model\n",
    "model = lr.fit(X_train,y_train)\n",
    "\n",
    "# Make predictions on train and test sets\n",
    "y_train_pred = lr.predict(X_train)\n",
    "y_test_pred = lr.predict(X_test)\n",
    "\n",
    "#Accuracy score\n",
    "accuracy_train = accuracy_score(y_train, y_train_pred)\n",
    "accuracy_test = accuracy_score(y_test, y_test_pred)\n",
    "\n",
    "print('accuracy train:',accuracy_train)\n",
    "print('accuarcy test',accuracy_test)"
   ]
  },
  {
   "cell_type": "markdown",
   "id": "7f34b205",
   "metadata": {},
   "source": [
    "- The model shows good performance, with slightly higher accuracy on the test set compared to the training set. This suggests that the model generalizes well to unseen data"
   ]
  },
  {
   "cell_type": "markdown",
   "id": "8adc6713",
   "metadata": {},
   "source": [
    "**save your model using pickle.**"
   ]
  },
  {
   "cell_type": "code",
   "execution_count": 28,
   "id": "5e27ad59",
   "metadata": {},
   "outputs": [],
   "source": [
    "import pickle\n",
    "\n",
    "#saving model to disk\n",
    "pickle.dump(model, open('model.pkl','wb'))\n",
    "\n",
    "model = pickle.load(open('model.pkl','rb'))"
   ]
  }
 ],
 "metadata": {
  "kernelspec": {
   "display_name": "Python 3 (ipykernel)",
   "language": "python",
   "name": "python3"
  },
  "language_info": {
   "codemirror_mode": {
    "name": "ipython",
    "version": 3
   },
   "file_extension": ".py",
   "mimetype": "text/x-python",
   "name": "python",
   "nbconvert_exporter": "python",
   "pygments_lexer": "ipython3",
   "version": "3.11.5"
  }
 },
 "nbformat": 4,
 "nbformat_minor": 5
}
